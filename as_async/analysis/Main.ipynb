{
 "cells": [
  {
   "cell_type": "code",
   "execution_count": 1,
   "metadata": {},
   "outputs": [],
   "source": [
    "import numpy as np\n",
    "import pandas as pd\n",
    "\n",
    "import os\n",
    "\n",
    "from statsmodels.stats.api import DescrStatsW\n",
    "from scipy.stats import ttest_rel\n",
    "\n",
    "import matplotlib.pyplot as plt"
   ]
  },
  {
   "cell_type": "markdown",
   "metadata": {},
   "source": [
    "# Loading results generated from experiments"
   ]
  },
  {
   "cell_type": "code",
   "execution_count": 2,
   "metadata": {},
   "outputs": [],
   "source": [
    "policies = [\n",
    "    'single-fidelity ENS',\n",
    "    'ucb',\n",
    "    'uncertainty sampling on L, greedy on H',\n",
    "    'one-step ENS limit 1000 1000 samples',\n",
    "    'rep v2 shortened limit 500 500 samples',\n",
    "]\n",
    "policy_names = [\n",
    "    'ENS',\n",
    "    'MF-UCB',\n",
    "    'UG',\n",
    "    'H-ENS',\n",
    "    'MF-ENS'\n",
    "]\n",
    "\n",
    "data_names = [\n",
    "    'ecfp4',\n",
    "    'gpidaph3',\n",
    "    'bmg_data',\n",
    "]\n",
    "\n",
    "fprs = [70, 90]\n",
    "ks = [2, 5]\n",
    "budget = 300  # on H\n",
    "num_exps = 50\n",
    "horizon = max(ks) * budget + budget - max(ks)\n",
    "\n",
    "basepath = '../saved_results/'"
   ]
  },
  {
   "cell_type": "code",
   "execution_count": 3,
   "metadata": {},
   "outputs": [],
   "source": [
    "utilities = np.empty((\n",
    "    len(policies), len(data_names), len(fprs), len(ks), num_exps, budget\n",
    "))\n",
    "utilities[:] = np.nan\n",
    "\n",
    "queried_probs = np.empty((\n",
    "    len(policies), len(data_names), len(fprs), len(ks), num_exps, horizon\n",
    "))\n",
    "queried_probs[:] = np.nan\n",
    "\n",
    "init_data = np.empty((\n",
    "    len(data_names), len(fprs), len(ks), num_exps\n",
    "))\n",
    "init_data[:] = np.nan\n",
    "\n",
    "for k_ind, k in enumerate(ks):\n",
    "    for fpr_ind, fpr in enumerate(fprs):\n",
    "        for data_ind, data_name in enumerate(data_names):\n",
    "            for policy_ind, policy in enumerate(policies):\n",
    "                path = basepath + f'{budget}_{k}_{fpr}/{data_name}/{policy}/'\n",
    "                \n",
    "                if not os.path.isdir(path):\n",
    "                    print(f'{path} does not exist')\n",
    "                    continue\n",
    "                \n",
    "                for filename in os.listdir(path):\n",
    "                    if filename.startswith(policy) and filename.endswith('.csv'):\n",
    "                        name_parts = filename.split('__')\n",
    "                        data_type = name_parts[1]\n",
    "                        exp = int(name_parts[2]) - 1\n",
    "                        init_point = int(name_parts[3])\n",
    "                        \n",
    "                        # assert that the initial dataset is consistent\n",
    "                        if exp < num_exps:\n",
    "                            if np.isnan(init_data[data_ind, fpr_ind, k_ind, exp]):\n",
    "                                init_data[data_ind, fpr_ind, k_ind, exp] = init_point\n",
    "                            else:\n",
    "                                assert init_data[data_ind, fpr_ind, k_ind, exp] == init_point\n",
    "\n",
    "                            data = np.loadtxt(path + filename)\n",
    "\n",
    "                            if data_type == 'utilities':\n",
    "                                utilities[policy_ind, data_ind, fpr_ind, k_ind, exp, :len(data)] = data\n",
    "                            elif data_type == 'queried_probs':\n",
    "                                queried_probs[policy_ind, data_ind, fpr_ind, k_ind, exp, :len(data)] = data\n",
    "                            else:\n",
    "                                continue"
   ]
  },
  {
   "cell_type": "markdown",
   "metadata": {},
   "source": [
    "# Number of targets found"
   ]
  },
  {
   "cell_type": "code",
   "execution_count": 4,
   "metadata": {},
   "outputs": [],
   "source": [
    "total_utilities = utilities.sum(axis=5)\n",
    "\n",
    "total_utility_df = pd.DataFrame(columns=[\n",
    "    'policy', 'data', 'fpr', 'k', 'utility'\n",
    "])\n",
    "\n",
    "for k_ind, k in enumerate(ks):\n",
    "    for fpr_ind, fpr in enumerate(fprs):\n",
    "        for data_ind, data_name in enumerate(data_names):\n",
    "            for policy_ind, policy in enumerate(policies):\n",
    "                total_utility_df = pd.concat([total_utility_df, pd.DataFrame({\n",
    "                    'policy': policy_names[policy_ind], 'data': data_name, 'fpr': fpr, 'k': k,\n",
    "                    'utility': total_utilities[policy_ind, data_ind, fpr_ind, k_ind, :]\n",
    "                })])"
   ]
  },
  {
   "cell_type": "code",
   "execution_count": 5,
   "metadata": {},
   "outputs": [
    {
     "data": {
      "text/html": [
       "<div>\n",
       "<style scoped>\n",
       "    .dataframe tbody tr th:only-of-type {\n",
       "        vertical-align: middle;\n",
       "    }\n",
       "\n",
       "    .dataframe tbody tr th {\n",
       "        vertical-align: top;\n",
       "    }\n",
       "\n",
       "    .dataframe thead tr th {\n",
       "        text-align: left;\n",
       "    }\n",
       "\n",
       "    .dataframe thead tr:last-of-type th {\n",
       "        text-align: right;\n",
       "    }\n",
       "</style>\n",
       "<table border=\"1\" class=\"dataframe\">\n",
       "  <thead>\n",
       "    <tr>\n",
       "      <th></th>\n",
       "      <th>data</th>\n",
       "      <th colspan=\"4\" halign=\"left\">bmg_data</th>\n",
       "      <th colspan=\"4\" halign=\"left\">ecfp4</th>\n",
       "      <th colspan=\"4\" halign=\"left\">gpidaph3</th>\n",
       "    </tr>\n",
       "    <tr>\n",
       "      <th></th>\n",
       "      <th>fpr</th>\n",
       "      <th colspan=\"2\" halign=\"left\">70</th>\n",
       "      <th colspan=\"2\" halign=\"left\">90</th>\n",
       "      <th colspan=\"2\" halign=\"left\">70</th>\n",
       "      <th colspan=\"2\" halign=\"left\">90</th>\n",
       "      <th colspan=\"2\" halign=\"left\">70</th>\n",
       "      <th colspan=\"2\" halign=\"left\">90</th>\n",
       "    </tr>\n",
       "    <tr>\n",
       "      <th></th>\n",
       "      <th>k</th>\n",
       "      <th>2</th>\n",
       "      <th>5</th>\n",
       "      <th>2</th>\n",
       "      <th>5</th>\n",
       "      <th>2</th>\n",
       "      <th>5</th>\n",
       "      <th>2</th>\n",
       "      <th>5</th>\n",
       "      <th>2</th>\n",
       "      <th>5</th>\n",
       "      <th>2</th>\n",
       "      <th>5</th>\n",
       "    </tr>\n",
       "    <tr>\n",
       "      <th>policy</th>\n",
       "      <th></th>\n",
       "      <th></th>\n",
       "      <th></th>\n",
       "      <th></th>\n",
       "      <th></th>\n",
       "      <th></th>\n",
       "      <th></th>\n",
       "      <th></th>\n",
       "      <th></th>\n",
       "      <th></th>\n",
       "      <th></th>\n",
       "      <th></th>\n",
       "      <th></th>\n",
       "    </tr>\n",
       "  </thead>\n",
       "  <tbody>\n",
       "    <tr>\n",
       "      <td>ENS</td>\n",
       "      <td>utility</td>\n",
       "      <td>278.16</td>\n",
       "      <td>278.16</td>\n",
       "      <td>278.82</td>\n",
       "      <td>278.82</td>\n",
       "      <td>213.18</td>\n",
       "      <td>213.18</td>\n",
       "      <td>217.66</td>\n",
       "      <td>217.66</td>\n",
       "      <td>185.56</td>\n",
       "      <td>185.56</td>\n",
       "      <td>197.18</td>\n",
       "      <td>197.18</td>\n",
       "    </tr>\n",
       "    <tr>\n",
       "      <td>H-ENS</td>\n",
       "      <td>utility</td>\n",
       "      <td>284.44</td>\n",
       "      <td>285.30</td>\n",
       "      <td>289.78</td>\n",
       "      <td>294.46</td>\n",
       "      <td>223.02</td>\n",
       "      <td>230.78</td>\n",
       "      <td>240.52</td>\n",
       "      <td>249.34</td>\n",
       "      <td>202.40</td>\n",
       "      <td>221.96</td>\n",
       "      <td>220.52</td>\n",
       "      <td>245.24</td>\n",
       "    </tr>\n",
       "    <tr>\n",
       "      <td>MF-ENS</td>\n",
       "      <td>utility</td>\n",
       "      <td>286.00</td>\n",
       "      <td>286.04</td>\n",
       "      <td>289.66</td>\n",
       "      <td>294.08</td>\n",
       "      <td>226.32</td>\n",
       "      <td>229.96</td>\n",
       "      <td>244.08</td>\n",
       "      <td>250.48</td>\n",
       "      <td>207.84</td>\n",
       "      <td>220.52</td>\n",
       "      <td>230.04</td>\n",
       "      <td>243.10</td>\n",
       "    </tr>\n",
       "    <tr>\n",
       "      <td>MF-UCB</td>\n",
       "      <td>utility</td>\n",
       "      <td>273.94</td>\n",
       "      <td>276.50</td>\n",
       "      <td>284.20</td>\n",
       "      <td>289.06</td>\n",
       "      <td>200.22</td>\n",
       "      <td>206.18</td>\n",
       "      <td>227.24</td>\n",
       "      <td>238.16</td>\n",
       "      <td>187.38</td>\n",
       "      <td>199.82</td>\n",
       "      <td>200.24</td>\n",
       "      <td>211.64</td>\n",
       "    </tr>\n",
       "    <tr>\n",
       "      <td>UG</td>\n",
       "      <td>utility</td>\n",
       "      <td>277.74</td>\n",
       "      <td>279.68</td>\n",
       "      <td>283.46</td>\n",
       "      <td>287.02</td>\n",
       "      <td>206.64</td>\n",
       "      <td>209.04</td>\n",
       "      <td>228.10</td>\n",
       "      <td>237.36</td>\n",
       "      <td>191.18</td>\n",
       "      <td>201.94</td>\n",
       "      <td>203.70</td>\n",
       "      <td>210.66</td>\n",
       "    </tr>\n",
       "  </tbody>\n",
       "</table>\n",
       "</div>"
      ],
      "text/plain": [
       "data           bmg_data                           ecfp4                  \\\n",
       "fpr                  70              90              70              90   \n",
       "k                     2       5       2       5       2       5       2   \n",
       "policy                                                                    \n",
       "ENS    utility   278.16  278.16  278.82  278.82  213.18  213.18  217.66   \n",
       "H-ENS  utility   284.44  285.30  289.78  294.46  223.02  230.78  240.52   \n",
       "MF-ENS utility   286.00  286.04  289.66  294.08  226.32  229.96  244.08   \n",
       "MF-UCB utility   273.94  276.50  284.20  289.06  200.22  206.18  227.24   \n",
       "UG     utility   277.74  279.68  283.46  287.02  206.64  209.04  228.10   \n",
       "\n",
       "data                   gpidaph3                          \n",
       "fpr                          70              90          \n",
       "k                    5        2       5       2       5  \n",
       "policy                                                   \n",
       "ENS    utility  217.66   185.56  185.56  197.18  197.18  \n",
       "H-ENS  utility  249.34   202.40  221.96  220.52  245.24  \n",
       "MF-ENS utility  250.48   207.84  220.52  230.04  243.10  \n",
       "MF-UCB utility  238.16   187.38  199.82  200.24  211.64  \n",
       "UG     utility  237.36   191.18  201.94  203.70  210.66  "
      ]
     },
     "execution_count": 5,
     "metadata": {},
     "output_type": "execute_result"
    }
   ],
   "source": [
    "mean_utility_df = total_utility_df.groupby([\n",
    "    'data', 'fpr', 'k', 'policy'\n",
    "]).mean().stack().unstack([0, 1, 2])\n",
    "mean_utility_df"
   ]
  },
  {
   "cell_type": "code",
   "execution_count": 6,
   "metadata": {},
   "outputs": [
    {
     "name": "stdout",
     "output_type": "stream",
     "text": [
      "ENS vs MF-ENS\n",
      "1.141944075027198e-45\n",
      "\n",
      "MF-UCB vs MF-ENS\n",
      "1.5943378266439172e-28\n",
      "\n",
      "UG vs MF-ENS\n",
      "4.380936204576847e-23\n",
      "\n",
      "H-ENS vs MF-ENS\n",
      "0.044290309157588595\n",
      "\n"
     ]
    }
   ],
   "source": [
    "for p_id in range(len(policies) - 1):\n",
    "    print(policy_names[p_id], 'vs MF-ENS')\n",
    "    print(ttest_rel(total_utilities[p_id, :].flatten(), total_utilities[-1, :].flatten()).pvalue)\n",
    "    print()"
   ]
  },
  {
   "cell_type": "markdown",
   "metadata": {},
   "source": [
    "## Average difference in cumulative reward\n",
    "\n",
    "### vs MF-UCB"
   ]
  },
  {
   "cell_type": "code",
   "execution_count": 7,
   "metadata": {},
   "outputs": [
    {
     "data": {
      "image/png": "[encoded data removed]",
      "text/plain": [
       "<Figure size 432x288 with 1 Axes>"
      ]
     },
     "metadata": {
      "needs_background": "light"
     },
     "output_type": "display_data"
    }
   ],
   "source": [
    "xs = np.arange(1, 301)\n",
    "\n",
    "cum_utilities = utilities.cumsum(axis=5).reshape(len(policies), -1, 300)\n",
    "avg_cum_utilities = cum_utilities.mean(axis=1)\n",
    "\n",
    "p1_ind = 4\n",
    "p2_ind = 1\n",
    "\n",
    "avg_diff = avg_cum_utilities[p1_ind, :] - avg_cum_utilities[p2_ind, :]\n",
    "lower_diff, upper_diff = DescrStatsW(\n",
    "    cum_utilities[p1_ind, :] - cum_utilities[p2_ind, :]\n",
    ").tconfint_mean()\n",
    "\n",
    "plt.plot(xs, avg_diff, label='mean difference')\n",
    "plt.fill_between(xs, lower_diff, upper_diff, alpha=0.2, label='95% CI')\n",
    "\n",
    "plt.plot(xs, np.zeros(300), linestyle='--', c='gray')\n",
    "\n",
    "plt.legend()\n",
    "\n",
    "plt.xlabel('number of H queries')\n",
    "plt.ylabel('difference in cumulative utility')\n",
    "\n",
    "plt.show()"
   ]
  },
  {
   "cell_type": "markdown",
   "metadata": {},
   "source": [
    "### vs UG"
   ]
  },
  {
   "cell_type": "code",
   "execution_count": 8,
   "metadata": {},
   "outputs": [
    {
     "data": {
      "image/png": "[encoded data removed]",
      "text/plain": [
       "<Figure size 432x288 with 1 Axes>"
      ]
     },
     "metadata": {
      "needs_background": "light"
     },
     "output_type": "display_data"
    }
   ],
   "source": [
    "xs = np.arange(1, 301)\n",
    "\n",
    "cum_utilities = utilities.cumsum(axis=5).reshape(len(policies), -1, 300)\n",
    "avg_cum_utilities = cum_utilities.mean(axis=1)\n",
    "\n",
    "p1_ind = 4\n",
    "p2_ind = 2\n",
    "\n",
    "avg_diff = avg_cum_utilities[p1_ind, :] - avg_cum_utilities[p2_ind, :]\n",
    "lower_diff, upper_diff = DescrStatsW(\n",
    "    cum_utilities[p1_ind, :] - cum_utilities[p2_ind, :]\n",
    ").tconfint_mean()\n",
    "\n",
    "plt.plot(xs, avg_diff, label='mean difference')\n",
    "plt.fill_between(xs, lower_diff, upper_diff, alpha=0.2, label='95% CI')\n",
    "\n",
    "plt.plot(xs, np.zeros(300), linestyle='--', c='gray')\n",
    "\n",
    "plt.legend()\n",
    "\n",
    "plt.xlabel('number of H queries')\n",
    "plt.ylabel('difference in cumulative utility')\n",
    "\n",
    "plt.show()"
   ]
  },
  {
   "cell_type": "markdown",
   "metadata": {},
   "source": [
    "### vs ENS"
   ]
  },
  {
   "cell_type": "code",
   "execution_count": 9,
   "metadata": {},
   "outputs": [
    {
     "data": {
      "image/png": "[encoded data removed]",
      "text/plain": [
       "<Figure size 432x288 with 1 Axes>"
      ]
     },
     "metadata": {
      "needs_background": "light"
     },
     "output_type": "display_data"
    }
   ],
   "source": [
    "xs = np.arange(1, 301)\n",
    "\n",
    "cum_utilities = utilities.cumsum(axis=5).reshape(len(policies), -1, 300)\n",
    "avg_cum_utilities = cum_utilities.mean(axis=1)\n",
    "\n",
    "p1_ind = 4\n",
    "p2_ind = 0\n",
    "\n",
    "avg_diff = avg_cum_utilities[p1_ind, :] - avg_cum_utilities[p2_ind, :]\n",
    "lower_diff, upper_diff = DescrStatsW(\n",
    "    cum_utilities[p1_ind, :] - cum_utilities[p2_ind, :]\n",
    ").tconfint_mean()\n",
    "\n",
    "plt.plot(xs, avg_diff, label='mean difference')\n",
    "plt.fill_between(xs, lower_diff, upper_diff, alpha=0.2, label='95% CI')\n",
    "\n",
    "plt.plot(xs, np.zeros(300), linestyle='--', c='gray')\n",
    "\n",
    "plt.legend()\n",
    "\n",
    "plt.xlabel('number of H queries')\n",
    "plt.ylabel('difference in cumulative utility')\n",
    "\n",
    "plt.show()"
   ]
  },
  {
   "cell_type": "markdown",
   "metadata": {},
   "source": [
    "# Progressive probabilities"
   ]
  },
  {
   "cell_type": "code",
   "execution_count": 10,
   "metadata": {},
   "outputs": [],
   "source": [
    "queried_probs_h = np.empty((\n",
    "    len(policies), len(data_names), len(fprs), len(ks), num_exps, budget\n",
    "))\n",
    "queried_probs_h[:] = np.nan\n",
    "\n",
    "for p_ind in range(len(policies)):\n",
    "    for data_ind in range(len(data_names)):\n",
    "        for fpr_ind in range(len(fprs)):\n",
    "            for k_ind, k in enumerate(ks):\n",
    "                horizon = k * (budget - 1) + budget\n",
    "                \n",
    "                queried_probs_h[\n",
    "                    p_ind, data_ind, fpr_ind, k_ind, :, :\n",
    "                ] = queried_probs[\n",
    "                    p_ind, data_ind, fpr_ind, k_ind, :, :horizon:(k + 1)\n",
    "                ]"
   ]
  },
  {
   "cell_type": "code",
   "execution_count": 11,
   "metadata": {},
   "outputs": [
    {
     "data": {
      "image/png": "[encoded data removed]",
      "text/plain": [
       "<Figure size 720x360 with 1 Axes>"
      ]
     },
     "metadata": {
      "needs_background": "light"
     },
     "output_type": "display_data"
    }
   ],
   "source": [
    "xs_h = np.arange(budget) + 1\n",
    "\n",
    "plt.figure(figsize=(10, 5))\n",
    "\n",
    "for p_ind, p_name in enumerate(policy_names):\n",
    "    plt.plot(\n",
    "        xs_h, queried_probs_h[p_ind].mean(axis=(0, 1, 2, 3)), \n",
    "        label=p_name\n",
    "    )\n",
    "    \n",
    "plt.legend()\n",
    "plt.xlabel('number of H queries')\n",
    "plt.ylabel('queried probability')\n",
    "\n",
    "plt.show()"
   ]
  },
  {
   "cell_type": "markdown",
   "metadata": {},
   "source": [
    "# The effect of pruning"
   ]
  },
  {
   "cell_type": "code",
   "execution_count": 12,
   "metadata": {},
   "outputs": [],
   "source": [
    "policies = [\n",
    "    'one-step ENS limit 1000 1000 samples',\n",
    "    'rep v2 shortened limit 500 500 samples',\n",
    "]\n",
    "\n",
    "policy_names = [\n",
    "    'H-ENS',\n",
    "    'MF-ENS'\n",
    "]\n",
    "\n",
    "limits = [\n",
    "    2000,\n",
    "    1000\n",
    "]\n",
    "\n",
    "computed = np.empty((\n",
    "    len(policies), len(data_names), len(fprs), len(ks), num_exps, horizon\n",
    "))\n",
    "computed[:] = np.nan\n",
    "\n",
    "pruned1 = np.empty((\n",
    "    len(policies), len(data_names), len(fprs), len(ks), num_exps, horizon\n",
    "))\n",
    "pruned1[:] = np.nan\n",
    "\n",
    "pruned2 = np.empty((\n",
    "    len(policies), len(data_names), len(fprs), len(ks), num_exps, horizon\n",
    "))\n",
    "pruned2[:] = np.nan\n",
    "\n",
    "init_data = np.empty((\n",
    "    len(data_names), len(fprs), len(ks), num_exps\n",
    "))\n",
    "init_data[:] = np.nan\n",
    "\n",
    "for fpr_ind, fpr in enumerate(fprs):\n",
    "    for k_ind, k in enumerate(ks):\n",
    "        for data_ind, data_name in enumerate(data_names):\n",
    "            for policy_ind, policy in enumerate(policies):\n",
    "                path = basepath + f'{budget}_{k}_{fpr}/{data_name}/{policy}/'\n",
    "\n",
    "                if not os.path.isdir(path):\n",
    "                    print(f'{path} does not exist')\n",
    "                    continue\n",
    "\n",
    "                for filename in os.listdir(path):\n",
    "                    if filename.startswith(policy) and filename.endswith('.csv'):\n",
    "                        name_parts = filename.split('__')\n",
    "                        data_type = name_parts[1]\n",
    "                        exp = int(name_parts[2]) - 1\n",
    "                        init_point = int(name_parts[3])\n",
    "\n",
    "                        # assert that the initial dataset is consistent\n",
    "                        if exp < num_exps:\n",
    "                            if np.isnan(init_data[data_ind, fpr_ind, k_ind, exp]):\n",
    "                                init_data[data_ind, fpr_ind, k_ind, exp] = init_point\n",
    "                            else:\n",
    "                                assert init_data[data_ind, fpr_ind, k_ind, exp] == init_point\n",
    "\n",
    "                            data = np.loadtxt(path + filename)\n",
    "\n",
    "                            if data_type == 'computed':\n",
    "                                computed[policy_ind, data_ind, fpr_ind, k_ind, exp, :len(data)] = data\n",
    "                            elif data_type == 'pruned1':\n",
    "                                pruned1[policy_ind, data_ind, fpr_ind, k_ind, exp, :len(data)] = data\n",
    "                            elif data_type == 'pruned2':\n",
    "                                pruned2[policy_ind, data_ind, fpr_ind, k_ind, exp, :len(data)] = data\n",
    "                            else:\n",
    "                                continue"
   ]
  },
  {
   "cell_type": "markdown",
   "metadata": {},
   "source": [
    "## How often the whole pool is covered"
   ]
  },
  {
   "cell_type": "code",
   "execution_count": 14,
   "metadata": {},
   "outputs": [],
   "source": [
    "all_computed = computed + pruned1 + pruned2"
   ]
  },
  {
   "cell_type": "code",
   "execution_count": 15,
   "metadata": {},
   "outputs": [
    {
     "name": "stdout",
     "output_type": "stream",
     "text": [
      "H-ENS 0.4522694444444444\n",
      "MF-ENS 0.27607166666666666\n"
     ]
    }
   ],
   "source": [
    "for p_ind, (p_name, limit) in enumerate(zip(policy_names, limits)):\n",
    "    a = []\n",
    "    \n",
    "    for k_ind, k in enumerate(ks):\n",
    "        horizon = k * (budget + 1) - k\n",
    "        \n",
    "        a.append(np.nanmean(\n",
    "            all_computed[p_ind, :, :, k_ind, :, :horizon] > limit\n",
    "        ))\n",
    "    \n",
    "    print(p_name, sum(a) / 2)"
   ]
  },
  {
   "cell_type": "markdown",
   "metadata": {},
   "source": [
    "## Contribution of each pruning method"
   ]
  },
  {
   "cell_type": "code",
   "execution_count": 18,
   "metadata": {},
   "outputs": [
    {
     "name": "stdout",
     "output_type": "stream",
     "text": [
      "H-ENS\n",
      "fully pruned 0.8519216003870105\n",
      "partially pruned 0.13996953886470578\n",
      "\n",
      "MF-ENS\n",
      "fully pruned 0.8939540893884915\n",
      "partially pruned 0.09023356266652176\n",
      "\n"
     ]
    }
   ],
   "source": [
    "for p_ind, (p_name, limit) in enumerate(zip(policy_names, limits)):\n",
    "    b1 = []\n",
    "    b2 = []\n",
    "    \n",
    "    for k_ind, k in enumerate(ks):\n",
    "        horizon = k * (budget + 1) - k\n",
    "\n",
    "        tmp_all_computed = all_computed[p_ind, :, :, k_ind, :, :horizon]\n",
    "        tmp_pruned1 = pruned1[p_ind, :, :, k_ind, :, :horizon]\n",
    "        tmp_pruned2 = pruned2[p_ind, :, :, k_ind, :, :horizon]\n",
    "        mask = tmp_all_computed > limit\n",
    "        \n",
    "        b1.append((tmp_pruned1[mask] / tmp_all_computed[mask]).mean())\n",
    "        b2.append((tmp_pruned2[mask] / tmp_all_computed[mask]).mean())\n",
    "    \n",
    "    print(p_name)\n",
    "    print('fully pruned', sum(b1) / 2)\n",
    "    print('partially pruned', sum(b2) / 2)\n",
    "    print()"
   ]
  },
  {
   "cell_type": "code",
   "execution_count": null,
   "metadata": {},
   "outputs": [],
   "source": []
  }
 ],
 "metadata": {
  "kernelspec": {
   "display_name": "Python 3",
   "language": "python",
   "name": "python3"
  },
  "language_info": {
   "codemirror_mode": {
    "name": "ipython",
    "version": 3
   },
   "file_extension": ".py",
   "mimetype": "text/x-python",
   "name": "python",
   "nbconvert_exporter": "python",
   "pygments_lexer": "ipython3",
   "version": "3.7.4"
  }
 },
 "nbformat": 4,
 "nbformat_minor": 4
}
